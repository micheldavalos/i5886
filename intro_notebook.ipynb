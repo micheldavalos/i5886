{
 "cells": [
  {
   "cell_type": "markdown",
   "metadata": {},
   "source": [
    "# <center>¿Qué es un notebook?</center>"
   ]
  },
  {
   "cell_type": "markdown",
   "metadata": {},
   "source": [
    "Un notebook es un documento que te permite combinar secciones de texto, imagen, audio y vídeo con secciones de _código interpretado_. Este último punto es importante dado que algunas veces trabajamos con lenguajes de programación compilados (_p. e. C++_) y la estructura del código cambiará un poco sin embargo las generalidaddes se mantienen."
   ]
  },
  {
   "cell_type": "markdown",
   "metadata": {},
   "source": [
    "Por ejemplo si trabajaramos con el lenguaje de programación Python, el código del notebook será equivalente a código que escribiéramos en la terminal de Python; sin embargo si trabajamos con C++ podríamos escribir código sin necesidad de crear una función main() y aún así podría ser interpretado. Veámos un ejemplo:"
   ]
  },
  {
   "cell_type": "code",
   "execution_count": null,
   "metadata": {},
   "outputs": [],
   "source": [
    "#include <iostream>\n",
    "std::cout <<\"Hola notebook!\";"
   ]
  },
  {
   "cell_type": "markdown",
   "metadata": {},
   "source": [
    "Si te colocas en la celda anterior y presionas en botón Run, se produciría el equivalente a una impresión en pantalla.\n",
    "\n",
    "<center><video controls src=\"https://raw.githubusercontent.com/sencionechauri/i5886/first_notebook/media/2020-09-05_02-30-11.mp4\"  width=50%/></center>\n",
    "\n",
    "El código es válido para C++ sin embargo si lo escribieras en un editor tendrías que crear un archivo con la extensión _.cpp_, dentro del archivo debería haber una función principal y dentro de la función la línea _std::cout <<\"Hola notebook!\";_.\n",
    "\n",
    "En un editor se vería así:"
   ]
  },
  {
   "cell_type": "code",
   "execution_count": null,
   "metadata": {},
   "outputs": [],
   "source": [
    "#include <iostream>\n",
    "    \n",
    "int main()\n",
    "{\n",
    "    std::cout <<\"Hola notebook!\";\n",
    "    return 0;\n",
    "}\n",
    "//Presiona el botón Run"
   ]
  },
  {
   "cell_type": "markdown",
   "metadata": {},
   "source": [
    "Si tu editor tiene compilador entonces tendrías que compilar el código y ejecutarlo para ver el resultado. En el caso de este notebook, como es interpretado, necesitaríamos ejecutar la función main() para poder ver el resultado. Muévete a la siguiente celda y presiona el botón Run o bien shift + enter."
   ]
  },
  {
   "cell_type": "code",
   "execution_count": null,
   "metadata": {},
   "outputs": [],
   "source": [
    "main();"
   ]
  },
  {
   "cell_type": "markdown",
   "metadata": {},
   "source": [
    "¡Muy bien! con esto ya aprendimos cómo ejecutar el código en nuestro notebook."
   ]
  },
  {
   "cell_type": "markdown",
   "metadata": {},
   "source": [
    "**¿Qué ganamos utilizando notebooks?** Bueno, puedes asumir que mientras el código esté bien escrito será interpretando y producirá un resultado independientemente de si lo pusiste dentro de una función o no (incluída la principal). Otra ventaja es poder probar código de forma rápida sin necesidad de crear un proyecto o un archivo específico.\n",
    "\n",
    "**¿Qué perdemos utilizando notebooks?** En el caso de los lenguajes interpretados (_p. e. Python_) nada. En el caso de los lenguajes que deben compilarse, la estructura de los documentos de código puede diferir de la estructura del notebook."
   ]
  },
  {
   "cell_type": "markdown",
   "metadata": {},
   "source": [
    "## Nota\n",
    "Para trabajar el curso estaremos escribiendo explicaciones y las celdas de código correspondientes, eso implica que tal vez el código producido no se vea exáctamente como en el archivo de código fuente (_.cpp_) para ello te proporcionaré los archivos con el código correspondiente de manera tal que puedas comparar ambas versiones y no tengas complicaciones al momento de trabajar en tu editor para las tareas de la plataforma. Si deseas escribir el código en tu editor a la par que lo lees en el notebook lo puedes hacer."
   ]
  },
  {
   "cell_type": "markdown",
   "metadata": {},
   "source": [
    "Finalemte te dejo el <a href= \"https://drive.google.com/file/d/1Jqni1bAAyaJqaOsrNJ5PCMOtpj1dKxlX/view?usp=sharing\">link</a> al archivo con el código visto en esta sesión"
   ]
  }
 ],
 "metadata": {
  "kernelspec": {
   "display_name": "C++11",
   "language": "C++11",
   "name": "xcpp11"
  },
  "language_info": {
   "codemirror_mode": "text/x-c++src",
   "file_extension": ".cpp",
   "mimetype": "text/x-c++src",
   "name": "c++",
   "version": "11"
  }
 },
 "nbformat": 4,
 "nbformat_minor": 4
}
